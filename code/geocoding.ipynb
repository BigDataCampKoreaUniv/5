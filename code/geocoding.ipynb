{
 "cells": [
  {
   "cell_type": "code",
   "execution_count": 1,
   "metadata": {},
   "outputs": [],
   "source": [
    "import requests\n",
    "from bs4 import BeautifulSoup"
   ]
  },
  {
   "cell_type": "code",
   "execution_count": 2,
   "metadata": {},
   "outputs": [],
   "source": [
    "headers = {\"accept-agent\":\"Mozilla/5.0 (iPad; CPU OS 11_0 like Mac OS X) AppleWebKit/604.1.34 (KHTML, like Gecko)\\\n",
    "    Version/11.0 Mobile/15A5341f Safari/604.1\"}"
   ]
  },
  {
   "cell_type": "code",
   "execution_count": 5,
   "metadata": {},
   "outputs": [],
   "source": [
    "base_url = \"http://maps.googleapis.com/maps/api/geocode/xml?address=\""
   ]
  },
  {
   "cell_type": "code",
   "execution_count": 10,
   "metadata": {},
   "outputs": [],
   "source": [
    "url = base_url+\"천안시\""
   ]
  },
  {
   "cell_type": "code",
   "execution_count": 11,
   "metadata": {},
   "outputs": [],
   "source": [
    "resp = requests.get(url, headers=headers)"
   ]
  },
  {
   "cell_type": "code",
   "execution_count": 12,
   "metadata": {},
   "outputs": [],
   "source": [
    "html = BeautifulSoup(resp.text, \"lxml\")"
   ]
  },
  {
   "cell_type": "code",
   "execution_count": 13,
   "metadata": {
    "scrolled": true
   },
   "outputs": [
    {
     "data": {
      "text/plain": [
       "<?xml version=\"1.0\" encoding=\"UTF-8\"?><html><body><geocoderesponse>\n",
       "<status>OK</status>\n",
       "<result>\n",
       "<type>locality</type>\n",
       "<type>political</type>\n",
       "<formatted_address>Cheonan-si, Chungcheongnam-do, South Korea</formatted_address>\n",
       "<address_component>\n",
       "<long_name>Cheonan-si</long_name>\n",
       "<short_name>Cheonan-si</short_name>\n",
       "<type>locality</type>\n",
       "<type>political</type>\n",
       "</address_component>\n",
       "<address_component>\n",
       "<long_name>Chungcheongnam-do</long_name>\n",
       "<short_name>Chungcheongnam-do</short_name>\n",
       "<type>administrative_area_level_1</type>\n",
       "<type>political</type>\n",
       "</address_component>\n",
       "<address_component>\n",
       "<long_name>South Korea</long_name>\n",
       "<short_name>KR</short_name>\n",
       "<type>country</type>\n",
       "<type>political</type>\n",
       "</address_component>\n",
       "<geometry>\n",
       "<location>\n",
       "<lat>36.8151290</lat>\n",
       "<lng>127.1138939</lng>\n",
       "</location>\n",
       "<location_type>APPROXIMATE</location_type>\n",
       "<viewport>\n",
       "<southwest>\n",
       "<lat>36.6205419</lat>\n",
       "<lng>127.0097552</lng>\n",
       "</southwest>\n",
       "<northeast>\n",
       "<lat>36.9733765</lat>\n",
       "<lng>127.4204848</lng>\n",
       "</northeast>\n",
       "</viewport>\n",
       "<bounds>\n",
       "<southwest>\n",
       "<lat>36.6205419</lat>\n",
       "<lng>127.0097552</lng>\n",
       "</southwest>\n",
       "<northeast>\n",
       "<lat>36.9733765</lat>\n",
       "<lng>127.4204848</lng>\n",
       "</northeast>\n",
       "</bounds>\n",
       "</geometry>\n",
       "<place_id>ChIJ5a7fvhUoezUR1KkLpiWn_fo</place_id>\n",
       "</result>\n",
       "</geocoderesponse>\n",
       "</body></html>"
      ]
     },
     "execution_count": 13,
     "metadata": {},
     "output_type": "execute_result"
    }
   ],
   "source": [
    "html"
   ]
  },
  {
   "cell_type": "code",
   "execution_count": 18,
   "metadata": {},
   "outputs": [],
   "source": [
    "lat = html.select(\"location > lat\")"
   ]
  },
  {
   "cell_type": "code",
   "execution_count": 23,
   "metadata": {},
   "outputs": [],
   "source": [
    "lng = html.select(\"location > lng\")"
   ]
  },
  {
   "cell_type": "code",
   "execution_count": 28,
   "metadata": {},
   "outputs": [
    {
     "data": {
      "text/plain": [
       "'36.8151290'"
      ]
     },
     "execution_count": 28,
     "metadata": {},
     "output_type": "execute_result"
    }
   ],
   "source": [
    "lat[0].get_text()"
   ]
  },
  {
   "cell_type": "code",
   "execution_count": null,
   "metadata": {},
   "outputs": [],
   "source": []
  }
 ],
 "metadata": {
  "kernelspec": {
   "display_name": "Python 3",
   "language": "python",
   "name": "python3"
  },
  "language_info": {
   "codemirror_mode": {
    "name": "ipython",
    "version": 3
   },
   "file_extension": ".py",
   "mimetype": "text/x-python",
   "name": "python",
   "nbconvert_exporter": "python",
   "pygments_lexer": "ipython3",
   "version": "3.6.5"
  }
 },
 "nbformat": 4,
 "nbformat_minor": 2
}
