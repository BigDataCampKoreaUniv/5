{
 "cells": [
  {
   "cell_type": "markdown",
   "metadata": {},
   "source": [
    "google Map"
   ]
  },
  {
   "cell_type": "code",
   "execution_count": 122,
   "metadata": {},
   "outputs": [
    {
     "name": "stdout",
     "output_type": "stream",
     "text": [
      "37.3594835\n",
      "127.1052076\n"
     ]
    }
   ],
   "source": [
    "import requests\n",
    "from bs4 import BeautifulSoup\n",
    "\n",
    "headers = {\"accept-agent\":\"Mozilla/5.0 (iPad; CPU OS 11_0 like Mac OS X) AppleWebKit/604.1.34 (KHTML, like Gecko)\\\n",
    "    Version/11.0 Mobile/15A5341f Safari/604.1\"}\n",
    "base_url = \"http://maps.googleapis.com/maps/api/geocode/xml?address=\"\n",
    "url = base_url+\"불정로 6\"\n",
    "resp = requests.get(url, headers=headers)\n",
    "html = BeautifulSoup(resp.text, \"lxml\")\n",
    "lat = html.select(\"location > lat\")\n",
    "lng = html.select(\"location > lng\")\n",
    "print(lat[0].get_text())\n",
    "print(lng[0].get_text())\n"
   ]
  },
  {
   "cell_type": "markdown",
   "metadata": {},
   "source": [
    "naver Map"
   ]
  },
  {
   "cell_type": "code",
   "execution_count": 120,
   "metadata": {},
   "outputs": [
    {
     "name": "stdout",
     "output_type": "stream",
     "text": [
      "127.1052133\n",
      "37.3595316\n"
     ]
    }
   ],
   "source": [
    "import os\n",
    "import sys\n",
    "import urllib.request\n",
    "client_id = \"ZbNWupFQAk_cmBAmLstr\"\n",
    "client_secret = \"5_knjXBU5Z\"\n",
    "encText = urllib.parse.quote(\"불정로 6\")\n",
    "url = \"https://openapi.naver.com/v1/map/geocode?query=\" + encText # json 결과\n",
    "# url = \"https://openapi.naver.com/v1/map/geocode.xml?query=\" + encText # xml 결과\n",
    "request = urllib.request.Request(url)\n",
    "request.add_header(\"X-Naver-Client-Id\",client_id)\n",
    "request.add_header(\"X-Naver-Client-Secret\",client_secret)\n",
    "response = urllib.request.urlopen(request)\n",
    "rescode = response.getcode()\n",
    "if(rescode==200):\n",
    "    response_body = response.read()\n",
    "    mystr = response_body.decode('utf-8')\n",
    "    mystr = mystr.replace('true',\"True\")\n",
    "    mystr = mystr.replace('false',\"False\")\n",
    "    mydic = eval(mystr)\n",
    "    print(mydic['result']['items'][0]['point']['x'])\n",
    "    print(mydic['result']['items'][0]['point']['y'])\n",
    "else:\n",
    "    print(\"Error Code:\" + rescode)"
   ]
  },
  {
   "cell_type": "markdown",
   "metadata": {},
   "source": [
    "-----"
   ]
  },
  {
   "cell_type": "code",
   "execution_count": null,
   "metadata": {},
   "outputs": [],
   "source": []
  }
 ],
 "metadata": {
  "kernelspec": {
   "display_name": "Python 3",
   "language": "python",
   "name": "python3"
  },
  "language_info": {
   "codemirror_mode": {
    "name": "ipython",
    "version": 3
   },
   "file_extension": ".py",
   "mimetype": "text/x-python",
   "name": "python",
   "nbconvert_exporter": "python",
   "pygments_lexer": "ipython3",
   "version": "3.6.5"
  }
 },
 "nbformat": 4,
 "nbformat_minor": 2
}
